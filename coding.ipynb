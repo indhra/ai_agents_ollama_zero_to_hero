{
 "cells": [
  {
   "cell_type": "code",
   "execution_count": 1,
   "id": "156f889f",
   "metadata": {},
   "outputs": [
    {
     "name": "stdout",
     "output_type": "stream",
     "text": [
      "   PassengerId  Survived  Pclass  \\\n",
      "0            1         0       3   \n",
      "1            2         1       1   \n",
      "2            3         1       3   \n",
      "\n",
      "                                                Name     Sex   Age  SibSp  \\\n",
      "0                            Braund, Mr. Owen Harris    male  22.0      1   \n",
      "1  Cumings, Mrs. John Bradley (Florence Briggs Th...  female  38.0      1   \n",
      "2                             Heikkinen, Miss. Laina  female  26.0      0   \n",
      "\n",
      "   Parch            Ticket     Fare Cabin Embarked  \n",
      "0      0         A/5 21171   7.2500   NaN        S  \n",
      "1      0          PC 17599  71.2833   C85        C  \n",
      "2      0  STON/O2. 3101282   7.9250   NaN        S  \n"
     ]
    }
   ],
   "source": [
    "\n",
    "import pandas as pd\n",
    "\n",
    "dtf = pd.read_csv('http://bit.ly/kaggletrain')\n",
    "print(dtf.head(3))\n"
   ]
  },
  {
   "cell_type": "code",
   "execution_count": 2,
   "id": "90cdf613",
   "metadata": {},
   "outputs": [
    {
     "data": {
      "image/png": "[encoded data removed]",
      "text/plain": [
       "<Figure size 640x480 with 1 Axes>"
      ]
     },
     "metadata": {},
     "output_type": "display_data"
    }
   ],
   "source": [
    "\n",
    "import seaborn as sns\n",
    "import matplotlib.pyplot as plt\n",
    "\n",
    "sns.boxplot(data=dtf, x=\"Sex\", y=\"Age\", hue=\"Survived\")\n",
    "plt.show()\n"
   ]
  },
  {
   "cell_type": "code",
   "execution_count": 3,
   "id": "f7f94994",
   "metadata": {},
   "outputs": [
    {
     "name": "stdout",
     "output_type": "stream",
     "text": [
      "2\n",
      "\n"
     ]
    }
   ],
   "source": [
    "\n",
    "import io\n",
    "import contextlib\n",
    "\n",
    "def code_exec(code: str) -> str:\n",
    "    output = io.StringIO()\n",
    "    with contextlib.redirect_stdout(output):\n",
    "        try:\n",
    "            exec(code)\n",
    "        except Exception as e:\n",
    "            print(f\"Error: {e}\")\n",
    "    return output.getvalue()\n",
    "\n",
    "tool_code_exec = {'type':'function', 'function':{\n",
    "  'name': 'code_exec',\n",
    "  'description': 'execute python code',\n",
    "  'parameters': {'type': 'object',\n",
    "                'required': ['code'],\n",
    "                'properties': {\n",
    "                    'code': {'type':'str', 'description':'code to execute'},\n",
    "}}}}\n",
    "\n",
    "## test\n",
    "print(code_exec(\"a=1+1; print(a)\"))\n"
   ]
  },
  {
   "cell_type": "code",
   "execution_count": 4,
   "id": "eb122a74",
   "metadata": {},
   "outputs": [],
   "source": [
    "\n",
    "# prompt = '''You are an expert data scientist, and you have tools to execute python code.\n",
    "# First of all, execute the following code exactly as it is: 'df=pd.read_csv(path); print(df.head())'\n",
    "# If you create a plot, ALWAYS add 'plt.show()' at the end.\n",
    "# '''\n",
    "# messages = [{\"role\":\"system\", \"content\":prompt}]\n",
    "# start = False\n",
    "\n",
    "# while True:\n",
    "#     ## user input\n",
    "#     try:\n",
    "#         if start is True:\n",
    "#             path = input('📁 Provide a CSV path >')\n",
    "#             q = \"path = \"+path\n",
    "#         else:\n",
    "#             q = input('🙂 >')\n",
    "#     except EOFError:\n",
    "#         break\n",
    "#     if q == \"quit\":\n",
    "#         break\n",
    "#     if q.strip() == \"\":\n",
    "#         continue\n",
    "   \n",
    "#     messages.append( {\"role\":\"user\", \"content\":q} )"
   ]
  },
  {
   "cell_type": "code",
   "execution_count": 5,
   "id": "ab7eb7ff",
   "metadata": {},
   "outputs": [],
   "source": [
    "import ollama\n",
    "llm = \"qwen2.5\"\n"
   ]
  },
  {
   "cell_type": "code",
   "execution_count": 7,
   "id": "64813d8a",
   "metadata": {},
   "outputs": [
    {
     "name": "stdout",
     "output_type": "stream",
     "text": [
      "🔧 > \u001b[1;31mcode_exec -> Inputs: {'code': 'import pandas as pd\\ndf = pd.read_csv(\"http://bit.ly/kaggletrain\"); print(df.head())'}\u001b[0m\n",
      "👽 > \u001b[1;30m   PassengerId  Survived  Pclass  \\\n",
      "0            1         0       3   \n",
      "1            2         1       1   \n",
      "2            3         1       3   \n",
      "3            4         1       1   \n",
      "4            5         0       3   \n",
      "\n",
      "                                                Name     Sex   Age  SibSp  \\\n",
      "0                            Braund, Mr. Owen Harris    male  22.0      1   \n",
      "1  Cumings, Mrs. John Bradley (Florence Briggs Th...  female  38.0      1   \n",
      "2                             Heikkinen, Miss. Laina  female  26.0      0   \n",
      "3       Futrelle, Mrs. Jacques Heath (Lily May Peel)  female  35.0      1   \n",
      "4                           Allen, Mr. William Henry    male  35.0      0   \n",
      "\n",
      "   Parch            Ticket     Fare Cabin Embarked  \n",
      "0      0         A/5 21171   7.2500   NaN        S  \n",
      "1      0          PC 17599  71.2833   C85        C  \n",
      "2      0  STON/O2. 3101282   7.9250   NaN        S  \n",
      "3      0            113803  53.1000  C123        S  \n",
      "4      0            373450   8.0500   NaN        S  \n",
      "\u001b[0m\n"
     ]
    }
   ],
   "source": [
    "prompt = '''You are an expert data scientist, and you have tools to execute python code.\n",
    "First of all, execute the following code exactly as it is: 'df=pd.read_csv(path); print(df.head())'\n",
    "If you create a plot, ALWAYS add 'plt.show()' at the end.\n",
    "'''\n",
    "messages = [{\"role\":\"system\", \"content\":prompt}]\n",
    "memory = '''Use the dataframe 'df'.'''\n",
    "start = False\n",
    "\n",
    "while True:\n",
    "    ## user input\n",
    "    try:\n",
    "        if start is True:\n",
    "            path = input('📁 Provide a CSV path >')\n",
    "            q = \"path = \"+path\n",
    "        else:\n",
    "            q = input('🙂 >')\n",
    "    except EOFError:\n",
    "        break\n",
    "    if q == \"quit\":\n",
    "        break\n",
    "    if q.strip() == \"\":\n",
    "        continue\n",
    "   \n",
    "    ## memory\n",
    "    if start is False:\n",
    "        q = memory+\"\\n\"+q\n",
    "    messages.append( {\"role\":\"user\", \"content\":q} )\n",
    "    \n",
    "        ## model\n",
    "    agent_res = ollama.chat(\n",
    "        model=llm,\n",
    "        tools=[tool_code_exec],\n",
    "        options={\"num_ctx\":2048},\n",
    "        messages=messages)\n",
    "    \n",
    "    ## response\n",
    "    dic_tools = {'code_exec':code_exec}\n",
    "   \n",
    "    if hasattr(agent_res[\"message\"], \"tool_calls\") and agent_res[\"message\"].tool_calls:\n",
    "        for tool in agent_res[\"message\"].tool_calls:\n",
    "            t_name, t_inputs = tool[\"function\"][\"name\"], tool[\"function\"][\"arguments\"]\n",
    "            if f := dic_tools.get(t_name):\n",
    "                ### calling tool\n",
    "                print('🔧 >', f\"\\x1b[1;31m{t_name} -> Inputs: {t_inputs}\\x1b[0m\")\n",
    "                messages.append( {\"role\":\"user\", \"content\":\"use tool '\"+t_name+\"' with inputs: \"+str(t_inputs)} )\n",
    "                ### tool output\n",
    "                t_output = f(**tool[\"function\"][\"arguments\"])\n",
    "                ### final res\n",
    "                res = t_output\n",
    "            else:\n",
    "                print('🤬 >', f\"\\x1b[1;31m{t_name} -> NotFound\\x1b[0m\")\n",
    " \n",
    "    if agent_res['message']['content'] != '':\n",
    "        res = agent_res[\"message\"][\"content\"]\n",
    "     \n",
    "    print(\"👽 >\", f\"\\x1b[1;30m{res}\\x1b[0m\")\n",
    "    messages.append( {\"role\":\"assistant\", \"content\":res} )\n",
    "    start = False\n",
    "    "
   ]
  },
  {
   "cell_type": "code",
   "execution_count": null,
   "id": "3fd172f8",
   "metadata": {},
   "outputs": [],
   "source": []
  }
 ],
 "metadata": {
  "kernelspec": {
   "display_name": ".venv",
   "language": "python",
   "name": "python3"
  },
  "language_info": {
   "codemirror_mode": {
    "name": "ipython",
    "version": 3
   },
   "file_extension": ".py",
   "mimetype": "text/x-python",
   "name": "python",
   "nbconvert_exporter": "python",
   "pygments_lexer": "ipython3",
   "version": "3.10.1"
  }
 },
 "nbformat": 4,
 "nbformat_minor": 5
}
